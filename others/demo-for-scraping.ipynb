{
  "nbformat": 4,
  "nbformat_minor": 0,
  "metadata": {
    "colab": {
      "name": "ImdbScraper.ipynb",
      "provenance": []
    },
    "kernelspec": {
      "name": "python3",
      "display_name": "Python 3"
    }
  },
  "cells": [
    {
      "cell_type": "code",
      "metadata": {
        "id": "ZV8awIJkTAjT"
      },
      "source": [
        "import requests\n",
        "from bs4 import BeautifulSoup\n",
        "import re\n",
        "import json"
      ],
      "execution_count": 1,
      "outputs": []
    },
    {
      "cell_type": "code",
      "metadata": {
        "id": "5ZuZimBeIN0f"
      },
      "source": [
        "def getMovieDetails(imdbID):\n",
        "    data = {}\n",
        "    \n",
        "    movie_url = \"https://www.imdb.com/title/\"+imdbID\n",
        "    r = requests.get(headers={'User-Agent': 'Mozilla/5.0'},url=movie_url)\n",
        "    # Create a BeautifulSoup object\n",
        "    soup = BeautifulSoup(r.text, 'html.parser')\n",
        "    jsonData = soup.find('script',{\"type\":\"application/ld+json\"})\n",
        "    #print(jsonData.string)\n",
        "    Moredata=[]\n",
        "    Moredata.append(json.loads(jsonData.string))\n",
        "    data[\"expanded\"]=Moredata\n",
        "\n",
        "    \n",
        "\n",
        "    #imdbId\n",
        "    data[\"imdbID\"] = imdbID\n",
        "\n",
        "    #page title\n",
        "    title = soup.find('title')\n",
        "    data[\"title\"] = title.string\n",
        "\n",
        "    #title Year\n",
        "\n",
        "\n",
        "    #RunTime\n",
        "    data[\"RunTime\"]=\"\"\n",
        "    data[\"Minutes\"]=\"\"\n",
        "    runTime = soup.find(\"time\")\n",
        "    if runTime!= None :\n",
        "      data[\"RunTime\"]=runTime.string.strip()\n",
        "      data[\"Minutes\"]=runTime['datetime']\n",
        "\n",
        "\n",
        "\n",
        "\n",
        "\n",
        "    # rating\n",
        "    data[\"ratingValue\"]=\"\"\n",
        "    ratingValue = soup.find(\"span\", {\"itemprop\" : \"ratingValue\"})\n",
        "    if ratingValue!= None :\n",
        "        data[\"ratingValue\"] = ratingValue.string\n",
        "\n",
        "    # no of rating given\n",
        "    data[\"ratingCount\"] =\"\"\n",
        "    ratingCount = soup.find(\"span\", {\"itemprop\" : \"ratingCount\"})\n",
        "    if ratingCount!= None  :\n",
        "        data[\"ratingCount\"] = ratingCount.string\n",
        "\n",
        "    # name\n",
        "    data[\"name\"]=\"\"\n",
        "    titleName = soup.find(\"div\",{'class':'titleBar'}).find(\"h1\")\n",
        "    if titleName!= None :\n",
        "        data[\"name\"] = titleName.contents[0].replace(u'\\xa0', u'')\n",
        "\n",
        "    # additional details\n",
        "    subtext = soup.find(\"div\",{'class':'subtext'})\n",
        "    data[\"subtext\"] = \"\"\n",
        "    for i in subtext.contents:\n",
        "        data[\"subtext\"] += i.string.strip()\n",
        "\n",
        "    # summary\n",
        "    summary_text = soup.find(\"div\",{'class':'summary_text'})\n",
        "   # print(summary_text)\n",
        "    if summary_text!=None and summary_text.string != None :\n",
        "      data[\"summary_text\"] = summary_text.string.strip()\n",
        "    else :\n",
        "      data[\"summary_text\"]=\"\"\n",
        "    credit_summary_item = soup.find_all(\"div\",{'class':'credit_summary_item'})\n",
        "    data[\"credits\"] = {}\n",
        "    for i in credit_summary_item:\n",
        "        item = i.find(\"h4\")\n",
        "        names = i.find_all(\"a\")\n",
        "        data[\"credits\"][item.string] = []\n",
        "        for i in names:\n",
        "            data[\"credits\"][item.string].append({\n",
        "                \"link\": i[\"href\"],\n",
        "                \"name\": i.string\n",
        "            })\n",
        "\n",
        "    return data"
      ],
      "execution_count": 2,
      "outputs": []
    },
    {
      "cell_type": "code",
      "metadata": {
        "colab": {
          "base_uri": "https://localhost:8080/"
        },
        "id": "TRk7cgZuISZH",
        "outputId": "e20a8e44-1c7e-4e58-d305-bd2ed5b11626"
      },
      "source": [
        "getMovieDetails('tt2631186')\n"
      ],
      "execution_count": 6,
      "outputs": [
        {
          "output_type": "execute_result",
          "data": {
            "text/plain": [
              "{'Minutes': 'PT159M',\n",
              " 'RunTime': '2h 39min',\n",
              " 'credits': {'Director:': [{'link': '/name/nm1442514/',\n",
              "    'name': 'S.S. Rajamouli'}],\n",
              "  'Stars:': [{'link': '/name/nm1659141/', 'name': 'Prabhas'},\n",
              "   {'link': '/name/nm2281292/', 'name': 'Rana Daggubati'},\n",
              "   {'link': '/name/nm0471447/', 'name': 'Ramya Krishnan'},\n",
              "   {'link': 'fullcredits/', 'name': 'See full cast & crew'}],\n",
              "  'Writers:': [{'link': '/name/nm2353436/', 'name': 'Vijayendra Prasad'},\n",
              "   {'link': '/name/nm1442514/', 'name': 'S.S. Rajamouli'},\n",
              "   {'link': 'fullcredits#writers/', 'name': '4 more credits'}]},\n",
              " 'expanded': [{'@context': 'http://schema.org',\n",
              "   '@type': 'Movie',\n",
              "   'actor': [{'@type': 'Person', 'name': 'Prabhas', 'url': '/name/nm1659141/'},\n",
              "    {'@type': 'Person', 'name': 'Rana Daggubati', 'url': '/name/nm2281292/'},\n",
              "    {'@type': 'Person', 'name': 'Ramya Krishnan', 'url': '/name/nm0471447/'},\n",
              "    {'@type': 'Person', 'name': 'Sathyaraj', 'url': '/name/nm0766470/'}],\n",
              "   'aggregateRating': {'@type': 'AggregateRating',\n",
              "    'bestRating': '10.0',\n",
              "    'ratingCount': 104252,\n",
              "    'ratingValue': '8.0',\n",
              "    'worstRating': '1.0'},\n",
              "   'contentRating': 'Not Rated',\n",
              "   'creator': [{'@type': 'Person',\n",
              "     'name': 'Vijayendra Prasad',\n",
              "     'url': '/name/nm2353436/'},\n",
              "    {'@type': 'Person', 'name': 'S.S. Rajamouli', 'url': '/name/nm1442514/'},\n",
              "    {'@type': 'Person', 'name': 'C.H. Vijay Kumar', 'url': '/name/nm7448575/'},\n",
              "    {'@type': 'Person', 'name': 'Ajay Kumar', 'url': '/name/nm4488268/'},\n",
              "    {'@type': 'Person', 'name': 'Madhan Karky', 'url': '/name/nm4157919/'},\n",
              "    {'@type': 'Person', 'name': 'Manoj Muntashir', 'url': '/name/nm4191232/'},\n",
              "    {'@type': 'Organization', 'url': '/company/co0303689/'}],\n",
              "   'datePublished': '2015-07-09',\n",
              "   'description': 'Bãhubali: The Beginning is a movie starring Prabhas, Rana Daggubati, and Ramya Krishnan. In ancient India, an adventurous and daring man becomes involved in a decades-old feud between two warring peoples.',\n",
              "   'director': {'@type': 'Person',\n",
              "    'name': 'S.S. Rajamouli',\n",
              "    'url': '/name/nm1442514/'},\n",
              "   'duration': 'PT2H39M',\n",
              "   'genre': ['Action', 'Drama'],\n",
              "   'image': 'https://m.media-amazon.com/images/M/MV5BYWVlMjVhZWYtNWViNC00ODFkLTk1MmItYjU1MDY5ZDdhMTU3XkEyXkFqcGdeQXVyODIwMDI1NjM@._V1_.jpg',\n",
              "   'keywords': 'india,kingdom,dual role,hindu,good versus evil',\n",
              "   'name': 'Bãhubali: The Beginning',\n",
              "   'review': {'@type': 'Review',\n",
              "    'author': {'@type': 'Person', 'name': 'rgopal-681-895636'},\n",
              "    'dateCreated': '2015-07-10',\n",
              "    'inLanguage': 'English',\n",
              "    'itemReviewed': {'@type': 'CreativeWork', 'url': '/title/tt2631186/'},\n",
              "    'name': 'Rajamouli leaves his mark..  conclusion awaits',\n",
              "    'reviewBody': \"I would simply say.. Get away from anyone giving review. Go and watch this movie. You will be surprised by it. Not everyday are we going to get movies like this. Don't keep high expectations about the movie, unless you have seen previous Rajamouli films ;) (like Magadheera, Eega). I would definitely say watch on bigger screens like imax or xd. Background score is simply awesome and as usual rajamouli makes best use of the music for his sets. \\n\\nVisuals are good. All characters did their part. Cannot name anyone particularly. I liked the main character most. I will be watching the movie at least two more times :). Hope y'all njoy it.\",\n",
              "    'reviewRating': {'@type': 'Rating',\n",
              "     'bestRating': '10',\n",
              "     'ratingValue': '10',\n",
              "     'worstRating': '1'}},\n",
              "   'trailer': {'@type': 'VideoObject',\n",
              "    'description': 'Official Trailer for Baahubali - The Beginning.',\n",
              "    'embedUrl': '/video/imdb/vi3834163993',\n",
              "    'name': 'Official Trailer',\n",
              "    'thumbnail': {'@type': 'ImageObject',\n",
              "     'contentUrl': 'https://m.media-amazon.com/images/M/MV5BMjI3Mzk0ODA2Nl5BMl5BanBnXkFtZTgwMzAxMjA0NjE@._V1_.jpg'},\n",
              "    'thumbnailUrl': 'https://m.media-amazon.com/images/M/MV5BMjI3Mzk0ODA2Nl5BMl5BanBnXkFtZTgwMzAxMjA0NjE@._V1_.jpg',\n",
              "    'uploadDate': '2015-07-30T07:33:15Z'},\n",
              "   'url': '/title/tt2631186/'}],\n",
              " 'imdbID': 'tt2631186',\n",
              " 'name': 'Baahubali: The Beginning',\n",
              " 'ratingCount': '104,252',\n",
              " 'ratingValue': '8.0',\n",
              " 'subtext': 'Not Rated|2h 39min|Action,Drama|9 July 2015 (USA)',\n",
              " 'summary_text': 'In ancient India, an adventurous and daring man becomes involved in a decades-old feud between two warring peoples.',\n",
              " 'title': 'Baahubali: The Beginning (2015) - IMDb'}"
            ]
          },
          "metadata": {
            "tags": []
          },
          "execution_count": 6
        }
      ]
    },
    {
      "cell_type": "code",
      "metadata": {
        "id": "HJiYXNKgIW3A"
      },
      "source": [
        "\n",
        "def getCrewData(imdbID):\n",
        "\n",
        "    url = \"https://www.imdb.com/title/\"+imdbID+\"/fullcredits/\"\n",
        "    crew_data = {\n",
        "        \"imdbID\" : imdbID,\n",
        "        \"crew\": []\n",
        "    }\n",
        "    r = requests.get(headers={'User-Agent': 'Mozilla/5.0'},url=url)\n",
        "\n",
        "    # Create a BeautifulSoup object\n",
        "    soup = BeautifulSoup(r.text, 'html.parser')\n",
        "\n",
        "    #page title\n",
        "    title = soup.find('title')\n",
        "    crew_data[\"title\"]=\"\"\n",
        "    if title!=None :\n",
        "        crew_data[\"title\"] = title.string\n",
        "    cast_list = soup.find(\"table\", {\"class\" : \"cast_list\"})\n",
        "    trows=[]\n",
        "    if cast_list!=None :\n",
        "        trows = cast_list.find_all('tr')\n",
        "\n",
        "    for tr in trows:\n",
        "        td = tr.find_all('td')\n",
        "        if len(td)==4:\n",
        "            row = [i.text for i in td]\n",
        "            crew_data[\"crew\"].append({\n",
        "                \"name\":re.sub(\"[^a-zA-Z' ]+\", '', row[1]).strip(),\n",
        "                \"character\":re.sub(\"[^a-zA-Z' ]+\", '', row[3]).strip()\n",
        "            })\n",
        "    return crew_data"
      ],
      "execution_count": 4,
      "outputs": []
    },
    {
      "cell_type": "code",
      "metadata": {
        "colab": {
          "base_uri": "https://localhost:8080/"
        },
        "id": "6ntESh4cIbph",
        "outputId": "091c60ac-4b26-4d87-8d86-6bdc5ed50382"
      },
      "source": [
        "getCrewData('tt2631186')\n"
      ],
      "execution_count": 7,
      "outputs": [
        {
          "output_type": "execute_result",
          "data": {
            "text/plain": [
              "{'crew': [{'character': 'Shivudu               Amarendra Baahubali               Mahendra Baahubali',\n",
              "   'name': 'Prabhas'},\n",
              "  {'character': 'Bhallaladeva', 'name': 'Rana Daggubati'},\n",
              "  {'character': 'Shivagami', 'name': 'Ramya Krishnan'},\n",
              "  {'character': 'Kattappa', 'name': 'Sathyaraj'},\n",
              "  {'character': 'Devasena', 'name': 'Anushka Shetty'},\n",
              "  {'character': 'Deependra Singh', 'name': 'Deependra Singh'},\n",
              "  {'character': 'Avanthika', 'name': 'Tamannaah Bhatia'},\n",
              "  {'character': 'Bijjaladeva', 'name': 'Nassar'},\n",
              "  {'character': 'Aslaam Khan', 'name': 'Sudeep'},\n",
              "  {'character': 'Kalakeya War Lord Inkoshi', 'name': 'Prabhakar'},\n",
              "  {'character': 'Bhalladeva Samantha Raju', 'name': 'Rajsekhar Aningi'},\n",
              "  {'character': 'Swamiji', 'name': 'Tanikella Bharani'},\n",
              "  {'character': 'Kalki Brothers', 'name': 'John Kokken'},\n",
              "  {'character': 'Sanga', 'name': 'Rohini'},\n",
              "  {'character': 'Bhadra', 'name': 'Adivi Sesh'},\n",
              "  {'character': 'Hero friend', 'name': 'Venkat Vadisetti'},\n",
              "  {'character': 'Tapsi Awhan', 'name': 'Preity pala'},\n",
              "  {'character': 'Dancer in Green Blouse', 'name': 'Nora Fatehi'},\n",
              "  {'character': 'Dancer in Blue Blouse', 'name': 'Madhussneha Upadhyay'},\n",
              "  {'character': 'Dancer in Orange Blouse', 'name': 'Scarlett Mellish Wilson'},\n",
              "  {'character': \"Bhallaladeva's Soldier\", 'name': 'Rakesh Varre'},\n",
              "  {'character': 'Alcohol Seller       uncredited', 'name': 'SS Rajamouli'},\n",
              "  {'character': '', 'name': 'Gabriela Bertante'},\n",
              "  {'character': '', 'name': 'Bhanu Sri'},\n",
              "  {'character': 'Iravati', 'name': 'Ragini Dev'},\n",
              "  {'character': '', 'name': 'Sri Simha Koduri'},\n",
              "  {'character': '', 'name': 'Venkat Prasad'},\n",
              "  {'character': '', 'name': 'Subbaraya Sarma'},\n",
              "  {'character': \"Inkoshi's brother\", 'name': 'Charandeep Surneni'},\n",
              "  {'character': '', 'name': 'Pingpong Surya'}],\n",
              " 'imdbID': 'tt2631186',\n",
              " 'title': 'Baahubali: The Beginning (2015) - Full Cast & Crew - IMDb'}"
            ]
          },
          "metadata": {
            "tags": []
          },
          "execution_count": 7
        }
      ]
    },
    {
      "cell_type": "code",
      "metadata": {
        "id": "3v0tR4jdIogP"
      },
      "source": [
        "\n",
        "def getImages(ImdbId) :\n",
        "  url = \"https://www.imdb.com/title/\"+ImdbId+\"/mediaindex\"\n",
        "  data= {}\n",
        "  data['ImdbId']=ImdbId\n",
        "  image_urls = []\n",
        "  r = requests.get(headers={'User-Agent': 'Mozilla/5.0'},url=url)\n",
        "  soup = BeautifulSoup(r.text, 'html.parser')\n",
        "  img =soup.find(\"img\",{'class':'poster'})\n",
        "  src=\"\"\n",
        "  if img!=None :\n",
        "      src = img.get('src')\n",
        "  data[\"poster_url\"]= src\n",
        "  \n",
        "  imagelist = soup.find('div',{\"class\" : \"media_index_thumb_list\"})\n",
        "  \n",
        "  Image_anchors_list=[]\n",
        "  if imagelist!= None :\n",
        "      Image_anchors_list=imagelist.findAll('a')\n",
        "\n",
        "  \n",
        "  for a in Image_anchors_list :\n",
        "    img = { }\n",
        "    img[\"image_title\"]=\"\"\n",
        "    if a.has_attr('title'):\n",
        "        img[\"image_title\"] = a['title']\n",
        "    img['url']=\"\"\n",
        "    #print(a['title'])\n",
        "    imageTagList = a.findAll('img')\n",
        "    if len(imageTagList) > 0 :\n",
        "      img['url'] = imageTagList[0]['src']\n",
        "    image_urls.append(img)\n",
        "\n",
        "  data['other_images'] = image_urls \n",
        "\n",
        "    \n",
        "  return data\n",
        "\n"
      ],
      "execution_count": 9,
      "outputs": []
    },
    {
      "cell_type": "code",
      "metadata": {
        "colab": {
          "base_uri": "https://localhost:8080/"
        },
        "id": "2sfSTbT9It72",
        "outputId": "99309cf2-f1c1-4714-fe7e-fe47b4c3d757"
      },
      "source": [
        "getImages('tt2631186')"
      ],
      "execution_count": 11,
      "outputs": [
        {
          "output_type": "execute_result",
          "data": {
            "text/plain": [
              "{'ImdbId': 'tt2631186',\n",
              " 'other_images': [{'image_title': 'Senthil Kumar in Baahubali: The Beginning (2015)',\n",
              "   'url': 'https://m.media-amazon.com/images/M/MV5BNjk2ZDRmZjQtMjYwZi00YzIzLThiNmQtODcxNGJhNTE5MDhkXkEyXkFqcGdeQXVyNjY1MTg4Mzc@._V1_UY100_CR68,0,100,100_AL_.jpg'},\n",
              "  {'image_title': 'Baahubali: The Beginning (2015)',\n",
              "   'url': 'https://m.media-amazon.com/images/M/MV5BNTI5Y2Y1YmEtMTAwZi00ZjU0LTg5NzEtMDBiYjk5Njc2ZGM4XkEyXkFqcGdeQXVyNjY1MTg4Mzc@._V1_UY100_CR68,0,100,100_AL_.jpg'},\n",
              "  {'image_title': 'Prabhas, Scarlett Mellish Wilson, Nora Fatehi, and Madhussneha Upadhyay in Baahubali: The Beginning (2015)',\n",
              "   'url': 'https://m.media-amazon.com/images/M/MV5BNWFlMjVlZjMtNDdlYi00ODAyLThiMjQtMTE5YmVjNWE4NTcxXkEyXkFqcGdeQXVyNjY1MTg4Mzc@._V1_UY100_CR68,0,100,100_AL_.jpg'},\n",
              "  {'image_title': 'Baahubali: The Beginning (2015)',\n",
              "   'url': 'https://m.media-amazon.com/images/M/MV5BZTY0NDg2OWQtNTUzOC00NWRlLWJiNjQtN2E1Njg5NTQ4ZTFjXkEyXkFqcGdeQXVyNjY1MTg4Mzc@._V1_UY100_CR68,0,100,100_AL_.jpg'},\n",
              "  {'image_title': 'Baahubali: The Beginning (2015)',\n",
              "   'url': 'https://m.media-amazon.com/images/M/MV5BZmM3MTY3NjEtMzUwOC00ZTkzLTk0MTEtZjdmY2MzYzBkNTUyXkEyXkFqcGdeQXVyNjY1MTg4Mzc@._V1_UY100_CR68,0,100,100_AL_.jpg'},\n",
              "  {'image_title': 'Ramya Krishnan, Nassar, Sathyaraj, Prabhas, and Rana Daggubati in Baahubali: The Beginning (2015)',\n",
              "   'url': 'https://m.media-amazon.com/images/M/MV5BYmFjZDlkMzctMWRmNi00YmQ1LWEyZWItOTkxZGVkZjg1OTQ4XkEyXkFqcGdeQXVyNjY1MTg4Mzc@._V1_UY100_CR68,0,100,100_AL_.jpg'},\n",
              "  {'image_title': 'Baahubali: The Beginning (2015)',\n",
              "   'url': 'https://m.media-amazon.com/images/M/MV5BZGYxNzI5NmUtNmM3MS00YjAwLWEyYTQtYTA4NTYzMTZiMGMwXkEyXkFqcGdeQXVyNjY1MTg4Mzc@._V1_UY100_CR68,0,100,100_AL_.jpg'},\n",
              "  {'image_title': 'Prabhas in Baahubali: The Beginning (2015)',\n",
              "   'url': 'https://m.media-amazon.com/images/M/MV5BM2ZjMjBmZjktNTRhMS00YWQwLWIzZTQtZmE1ODU1NDYwMGE2XkEyXkFqcGdeQXVyNjY1MTg4Mzc@._V1_UY100_CR68,0,100,100_AL_.jpg'},\n",
              "  {'image_title': 'Prabhas in Baahubali: The Beginning (2015)',\n",
              "   'url': 'https://m.media-amazon.com/images/M/MV5BNzA1Zjk1NWItMTAzMi00MjVhLWEzNDMtNmVkMDgwM2M0YWU4XkEyXkFqcGdeQXVyNjY1MTg4Mzc@._V1_UY100_CR68,0,100,100_AL_.jpg'},\n",
              "  {'image_title': 'Anushka Shetty in Baahubali: The Beginning (2015)',\n",
              "   'url': 'https://m.media-amazon.com/images/M/MV5BMmI2NDk1MGQtZjQ3ZS00M2YxLWE4YzYtZjYyMjExMzk4MDJmXkEyXkFqcGdeQXVyNjY1MTg4Mzc@._V1_UY100_CR68,0,100,100_AL_.jpg'},\n",
              "  {'image_title': 'Sathyaraj in Baahubali: The Beginning (2015)',\n",
              "   'url': 'https://m.media-amazon.com/images/M/MV5BYmQzNjM5YmItYWI3NS00OTYyLWE5ODAtMDEyZThlNTIwY2I0XkEyXkFqcGdeQXVyNjY1MTg4Mzc@._V1_UX100_CR0,0,100,100_AL_.jpg'},\n",
              "  {'image_title': 'Sathyaraj and Anushka Shetty in Baahubali: The Beginning (2015)',\n",
              "   'url': 'https://m.media-amazon.com/images/M/MV5BMWRhZjM2MTgtMmQxZS00ZmY3LWE5ZjUtMjc1ZjAxY2M2YjAzXkEyXkFqcGdeQXVyNjY1MTg4Mzc@._V1_UY100_CR68,0,100,100_AL_.jpg'},\n",
              "  {'image_title': 'Prabhakar in Baahubali: The Beginning (2015)',\n",
              "   'url': 'https://m.media-amazon.com/images/M/MV5BY2JlYzVjMWEtOWUxNy00OTI4LWIzMzctMjIzNGFkYTY1MjM0XkEyXkFqcGdeQXVyNjY1MTg4Mzc@._V1_UY100_CR68,0,100,100_AL_.jpg'},\n",
              "  {'image_title': 'Prabhakar in Baahubali: The Beginning (2015)',\n",
              "   'url': 'https://m.media-amazon.com/images/M/MV5BM2FmMWFmMmEtZjE1ZS00ZjZjLTljN2ItZjgzMTQ4NGQxZGFhXkEyXkFqcGdeQXVyNjY1MTg4Mzc@._V1_UY100_CR68,0,100,100_AL_.jpg'},\n",
              "  {'image_title': 'Sathyaraj and Prabhas in Baahubali: The Beginning (2015)',\n",
              "   'url': 'https://m.media-amazon.com/images/M/MV5BMTQwMGNlYmYtZDdjNy00Y2U1LThlM2YtNTU0MTA3MmJlZDEzXkEyXkFqcGdeQXVyNjY1MTg4Mzc@._V1_UY100_CR68,0,100,100_AL_.jpg'},\n",
              "  {'image_title': 'Rana Daggubati in Baahubali: The Beginning (2015)',\n",
              "   'url': 'https://m.media-amazon.com/images/M/MV5BNTZjYzM0MGEtYWVlYS00ZmY2LThlNzQtYjdjMTk5ZWE2ZTQ1XkEyXkFqcGdeQXVyNjY1MTg4Mzc@._V1_UY100_CR68,0,100,100_AL_.jpg'},\n",
              "  {'image_title': 'Tamannaah Bhatia in Baahubali: The Beginning (2015)',\n",
              "   'url': 'https://m.media-amazon.com/images/M/MV5BOTA2MzczMTcwOF5BMl5BanBnXkFtZTgwMjUxOTM3MTI@._V1_UY100_CR0,0,100,100_AL_.jpg'},\n",
              "  {'image_title': 'Prabhas in Baahubali: The Beginning (2015)',\n",
              "   'url': 'https://m.media-amazon.com/images/M/MV5BMjE3NjU1MjgyNl5BMl5BanBnXkFtZTgwNTAwMTcyMTI@._V1_UY100_CR16,0,100,100_AL_.jpg'},\n",
              "  {'image_title': 'Prabhas in Baahubali: The Beginning (2015)',\n",
              "   'url': 'https://m.media-amazon.com/images/M/MV5BMTk1NzkyNjkzOV5BMl5BanBnXkFtZTgwOTg4MDAwNDE@._V1_UY100_CR39,0,100,100_AL_.jpg'},\n",
              "  {'image_title': 'Rana Daggubati in Baahubali: The Beginning (2015)',\n",
              "   'url': 'https://m.media-amazon.com/images/M/MV5BMTY2OTI3Mjk4OF5BMl5BanBnXkFtZTgwNzg4MDAwNDE@._V1_UY100_UX100_AL_.jpg'},\n",
              "  {'image_title': 'Tamannaah Bhatia in Baahubali: The Beginning (2015)',\n",
              "   'url': 'https://m.media-amazon.com/images/M/MV5BNTYwMDU0OTM1Nl5BMl5BanBnXkFtZTgwODg4MDAwNDE@._V1_UY100_UX100_AL_.jpg'},\n",
              "  {'image_title': 'Tamannaah Bhatia at an event for Baahubali: The Beginning (2015)',\n",
              "   'url': 'https://m.media-amazon.com/images/M/MV5BOTM4OWMyMTQtYzU0OC00NTFmLTg2NGEtMmU5OGRlODgxOTljXkEyXkFqcGdeQXVyNjY1MTg4Mzc@._V1_UX100_CR0,0,100,100_AL_.jpg'},\n",
              "  {'image_title': 'Karan Johar, Prabhas, Tamannaah Bhatia, Anushka Shetty, and Rana Daggubati at an event for Baahubali: The Beginning (2015)',\n",
              "   'url': 'https://m.media-amazon.com/images/M/MV5BY2I2NzI3N2ItNzhkZi00NjA2LThkYjctZWUyYmFjZjkxMzg5XkEyXkFqcGdeQXVyNjY1MTg4Mzc@._V1_UY100_CR39,0,100,100_AL_.jpg'},\n",
              "  {'image_title': 'Tamannaah Bhatia at an event for Baahubali: The Beginning (2015)',\n",
              "   'url': 'https://m.media-amazon.com/images/M/MV5BY2RjOWJjODYtZGJjOS00NDNjLThiZWEtZTIwMTcwMzVlY2JhXkEyXkFqcGdeQXVyNjY1MTg4Mzc@._V1_UX100_CR0,0,100,100_AL_.jpg'},\n",
              "  {'image_title': 'Karan Johar, Prabhas, Tamannaah Bhatia, Anushka Shetty, and Rana Daggubati at an event for Baahubali: The Beginning (2015)',\n",
              "   'url': 'https://m.media-amazon.com/images/M/MV5BMWNhOTY0Y2ItMjg3My00YWIzLThmNzgtYWM4YmZhMDU5MTFmXkEyXkFqcGdeQXVyNjY1MTg4Mzc@._V1_UY100_CR36,0,100,100_AL_.jpg'},\n",
              "  {'image_title': 'Prabhas, Tamannaah Bhatia, Anushka Shetty, and Rana Daggubati at an event for Baahubali: The Beginning (2015)',\n",
              "   'url': 'https://m.media-amazon.com/images/M/MV5BOGNiYTZlMTAtNDI0NC00NTZlLTg2ZDctN2Y3Y2FkMTNhMjc4XkEyXkFqcGdeQXVyNjY1MTg4Mzc@._V1_UY100_CR33,0,100,100_AL_.jpg'},\n",
              "  {'image_title': 'Prabhas, Tamannaah Bhatia, Anushka Shetty, and Rana Daggubati at an event for Baahubali: The Beginning (2015)',\n",
              "   'url': 'https://m.media-amazon.com/images/M/MV5BNjUzODllYzMtMjk4ZC00ZGIxLWIyMGItYzc5ZWFmNGUyMTM1XkEyXkFqcGdeQXVyNjY1MTg4Mzc@._V1_UY100_CR33,0,100,100_AL_.jpg'},\n",
              "  {'image_title': 'Karan Johar, Prabhas, Tamannaah Bhatia, Anushka Shetty, and Rana Daggubati at an event for Baahubali: The Beginning (2015)',\n",
              "   'url': 'https://m.media-amazon.com/images/M/MV5BY2UxMmEwM2YtMWEyYS00MzUyLTllMjAtOGViOGM0NTQ5YjU1XkEyXkFqcGdeQXVyNjY1MTg4Mzc@._V1_UY100_CR39,0,100,100_AL_.jpg'},\n",
              "  {'image_title': 'Karan Johar, Prabhas, Tamannaah Bhatia, Anushka Shetty, and Rana Daggubati at an event for Baahubali: The Beginning (2015)',\n",
              "   'url': 'https://m.media-amazon.com/images/M/MV5BMWRmMmQwZTgtMjA4Yy00ZGFhLThiZmItYTM2NjA0NmE4OWFhXkEyXkFqcGdeQXVyNjY1MTg4Mzc@._V1_UY100_CR36,0,100,100_AL_.jpg'},\n",
              "  {'image_title': 'Prabhas and Rana Daggubati at an event for Baahubali: The Beginning (2015)',\n",
              "   'url': 'https://m.media-amazon.com/images/M/MV5BZjkzZjUwNTEtZmUxZC00MDRkLTkzZTAtMmQzMGY3ODRlZDQzXkEyXkFqcGdeQXVyNjY1MTg4Mzc@._V1_UY100_CR20,0,100,100_AL_.jpg'},\n",
              "  {'image_title': 'Prabhas in Baahubali: The Beginning (2015)',\n",
              "   'url': 'https://m.media-amazon.com/images/M/MV5BNWIwMDE5NDEtM2EwNS00YTk5LWFjNjYtZWE3Yzc2OTlmNTg3XkEyXkFqcGdeQXVyMTA4NjE0NjEy._V1_UX100_CR0,0,100,100_AL_.jpg'},\n",
              "  {'image_title': 'Tamannaah Bhatia in Baahubali: The Beginning (2015)',\n",
              "   'url': 'https://m.media-amazon.com/images/M/MV5BNmFjNWJmMWQtNWZjNC00ODU0LTk1ODAtNWJhODc4MTgxNzAwXkEyXkFqcGdeQXVyMTA4NjE0NjEy._V1_UX100_CR0,0,100,100_AL_.jpg'},\n",
              "  {'image_title': 'Prabhas in Baahubali: The Beginning (2015)',\n",
              "   'url': 'https://m.media-amazon.com/images/M/MV5BYWJmYjBmOWMtZWM3Yy00Yjg1LTk1YmEtOWE5Mzc1Y2FkMzU2XkEyXkFqcGdeQXVyMTA4NjE0NjEy._V1_UX100_CR0,0,100,100_AL_.jpg'},\n",
              "  {'image_title': 'Baahubali: The Beginning (2015)',\n",
              "   'url': 'https://m.media-amazon.com/images/M/MV5BYTQ2NmQ1ZTktYWQ1Yy00NzM1LWE5NjItYmZiZThhMTkyYjg2XkEyXkFqcGdeQXVyMTA4NjE0NjEy._V1_UX100_CR0,0,100,100_AL_.jpg'},\n",
              "  {'image_title': 'Baahubali: The Beginning (2015)',\n",
              "   'url': 'https://m.media-amazon.com/images/M/MV5BYWVlMjVhZWYtNWViNC00ODFkLTk1MmItYjU1MDY5ZDdhMTU3XkEyXkFqcGdeQXVyODIwMDI1NjM@._V1_UX100_CR0,0,100,100_AL_.jpg'},\n",
              "  {'image_title': 'Sathyaraj, Prabhas, and Rana Daggubati in Baahubali: The Beginning (2015)',\n",
              "   'url': 'https://m.media-amazon.com/images/M/MV5BZTQ3MjU2Y2UtZjI1My00NDc5LWE1OTgtYWZkMmMyMmUxNjkyXkEyXkFqcGdeQXVyODIwMDI1NjM@._V1_UX100_CR0,0,100,100_AL_.jpg'},\n",
              "  {'image_title': 'Prabhas in Baahubali: The Beginning (2015)',\n",
              "   'url': 'https://m.media-amazon.com/images/M/MV5BODAwMDc0NzA3Ml5BMl5BanBnXkFtZTgwMjU4NzgyNzE@._V1_UX100_CR0,0,100,100_AL_.jpg'},\n",
              "  {'image_title': 'First Look Poster of Baahubali - The Beginning',\n",
              "   'url': 'https://m.media-amazon.com/images/M/MV5BMjIwMjIwNDM1OV5BMl5BanBnXkFtZTgwOTk1NzY1NTE@._V1_UX100_CR0,0,100,100_AL_.jpg'},\n",
              "  {'image_title': 'Prabhas in Baahubali: The Beginning (2015)',\n",
              "   'url': 'https://m.media-amazon.com/images/M/MV5BMzA4MjE3NTIzN15BMl5BanBnXkFtZTgwMzkxODIzNTE@._V1_UX100_CR0,0,100,100_AL_.jpg'},\n",
              "  {'image_title': 'Prabhas in Baahubali: The Beginning (2015)',\n",
              "   'url': 'https://m.media-amazon.com/images/M/MV5BMjI1NzIyODg3OF5BMl5BanBnXkFtZTgwMDczNjg5MzE@._V1_UX100_CR0,0,100,100_AL_.jpg'},\n",
              "  {'image_title': 'Baahubali: The Beginning (2015)',\n",
              "   'url': 'https://m.media-amazon.com/images/M/MV5BZWEyNjEyNDItZmYzYS00ZmVkLTkxNmMtMTkzMTY0YmY2MmVmXkEyXkFqcGdeQXVyNzU3Nzk4MDQ@._V1_UY100_CR66,0,100,100_AL_.jpg'},\n",
              "  {'image_title': 'Prabhas and Tamannaah Bhatia in Baahubali: The Beginning (2015)',\n",
              "   'url': 'https://m.media-amazon.com/images/M/MV5BYTZiMDIyNzUtMjA1My00YjI1LTk0ODgtNGE0ZWYxMjY5ZjA4XkEyXkFqcGdeQXVyNjk5NzY4OTk@._V1_UY100_CR48,0,100,100_AL_.jpg'},\n",
              "  {'image_title': 'Prabhas and Tamannaah Bhatia in Baahubali: The Beginning (2015)',\n",
              "   'url': 'https://m.media-amazon.com/images/M/MV5BMzRjNmJjYTItZmNiNC00OTFmLThkM2EtZmFhZDU5YjIxZjg2XkEyXkFqcGdeQXVyNjk5NzY4OTk@._V1_UY100_CR25,0,100,100_AL_.jpg'},\n",
              "  {'image_title': 'Tamannaah Bhatia in Baahubali: The Beginning (2015)',\n",
              "   'url': 'https://m.media-amazon.com/images/M/MV5BYzlmYWI3MDQtNzMyYi00MDQ1LWFkMTktZjU0YWY2MTljZGM2XkEyXkFqcGdeQXVyNjk5NzY4OTk@._V1_UY100_CR16,0,100,100_AL_.jpg'},\n",
              "  {'image_title': 'Prabhas in Baahubali: The Beginning (2015)',\n",
              "   'url': 'https://m.media-amazon.com/images/M/MV5BYzBjMGU4YWMtOTU4NS00NDRhLTlhNWMtOTU3NWViMGYwYzliXkEyXkFqcGdeQXVyNjk5NzY4OTk@._V1_UY100_CR17,0,100,100_AL_.jpg'},\n",
              "  {'image_title': 'Prabhas in Baahubali: The Beginning (2015)',\n",
              "   'url': 'https://m.media-amazon.com/images/M/MV5BYjg2YzAyNGUtZmY3OC00NmQ2LTg1ZGQtNmQ5YWY4ZTUyZGY5XkEyXkFqcGdeQXVyNjk5NzY4OTk@._V1_UY100_CR25,0,100,100_AL_.jpg'},\n",
              "  {'image_title': 'Baahubali: The Beginning (2015)',\n",
              "   'url': 'https://m.media-amazon.com/images/M/MV5BYjUzMGQ4MTEtOWNkOC00ZTY2LTgxYWYtM2I5YWZhZWU1NTJiXkEyXkFqcGdeQXVyNjk5NzY4OTk@._V1_UY100_UX100_AL_.jpg'},\n",
              "  {'image_title': 'Baahubali: The Beginning (2015)',\n",
              "   'url': 'https://m.media-amazon.com/images/M/MV5BMjdkMGY1NGUtYjMzOC00MWEzLTk4NjEtOGY1OTlhMjhiNWZmXkEyXkFqcGdeQXVyNjk5NzY4OTk@._V1_UY100_CR30,0,100,100_AL_.jpg'}],\n",
              " 'poster_url': 'https://m.media-amazon.com/images/M/MV5BYWVlMjVhZWYtNWViNC00ODFkLTk1MmItYjU1MDY5ZDdhMTU3XkEyXkFqcGdeQXVyODIwMDI1NjM@._V1_UX67_CR0,0,67,98_AL_.jpg'}"
            ]
          },
          "metadata": {
            "tags": []
          },
          "execution_count": 11
        }
      ]
    },
    {
      "cell_type": "code",
      "metadata": {
        "id": "l3_hwpocI0O-"
      },
      "source": [
        "def getVideos(ImdbId) :\n",
        "  url = \"https://www.imdb.com/title/\"+ImdbId+\"/mediaindex\"\n",
        "  data= {}\n",
        "  data['ImdbId']=ImdbId\n",
        "  video_urls = []\n",
        "  r = requests.get(headers={'User-Agent': 'Mozilla/5.0'},url=url)\n",
        "#  print(url)\n",
        "  soup = BeautifulSoup(r.text, 'html.parser')\n",
        "  videoList =soup.find(\"div\",{'class':'mediastrip_big'})\n",
        "#  print(videoList)\n",
        "  VideoAnchorList=[]\n",
        "  if videoList != None :\n",
        "      VideoAnchorList = videoList.findAll('a')\n",
        "  for a in VideoAnchorList :\n",
        "#    print(a)\n",
        "    video_urls.append(a['href'])\n",
        "  data['video_urls']=video_urls\n",
        "#  print(data)\n",
        "  return data\n",
        "\n"
      ],
      "execution_count": 12,
      "outputs": []
    },
    {
      "cell_type": "code",
      "metadata": {
        "colab": {
          "base_uri": "https://localhost:8080/"
        },
        "id": "3IzLhyQ4I4VO",
        "outputId": "327c44b9-84fa-441f-d5b5-49c5a5809361"
      },
      "source": [
        "getVideos('tt2631186')\n"
      ],
      "execution_count": 13,
      "outputs": [
        {
          "output_type": "execute_result",
          "data": {
            "text/plain": [
              "{'ImdbId': 'tt2631186',\n",
              " 'video_urls': ['/title/tt2631186/videoplayer/vi3834163993',\n",
              "  '/title/tt2631186/videoplayer/vi657702425',\n",
              "  '/title/tt2631186/videoplayer/vi1228193305']}"
            ]
          },
          "metadata": {
            "tags": []
          },
          "execution_count": 13
        }
      ]
    },
    {
      "cell_type": "markdown",
      "metadata": {
        "id": "lH3AmIHlI-SW"
      },
      "source": [
        "**Scrape all details**"
      ]
    },
    {
      "cell_type": "code",
      "metadata": {
        "id": "rmWro3MyI8KG"
      },
      "source": [
        "def scrapIMDB(ImdbId) :\n",
        "    data = {}\n",
        "    data['imdbId']=ImdbId\n",
        "    data['videos'] = getVideos(ImdbId)\n",
        "    data['images'] = getImages(ImdbId)\n",
        "    data['info']    = getMovieDetails(ImdbId)\n",
        "    data['crew_data'] =  getCrewData(ImdbId)\n",
        "    \n",
        "    return data    \n",
        "    "
      ],
      "execution_count": 14,
      "outputs": []
    },
    {
      "cell_type": "code",
      "metadata": {
        "id": "En9uNUAbJOHu"
      },
      "source": [
        "\n",
        "listId = [\"tt5074352\",\"tt6980546\",\"tt7838158\",\"tt7465992\",\"tt2631186\",\"tt7392212\"]\n"
      ],
      "execution_count": 15,
      "outputs": []
    },
    {
      "cell_type": "markdown",
      "metadata": {
        "id": "tMMuVqS4Jl31"
      },
      "source": [
        "**Start scraping multiple movies and download each file**"
      ]
    },
    {
      "cell_type": "code",
      "metadata": {
        "colab": {
          "base_uri": "https://localhost:8080/"
        },
        "id": "PKetypsIJZOB",
        "outputId": "c8136795-0056-48df-e800-428de617074f"
      },
      "source": [
        "count=0\n",
        "for id in listId :\n",
        "  print(id)  \n",
        "  data=scrapIMDB(id)\n",
        "  with open(id +'.json', 'w') as json_file:\n",
        "      json.dump(data, json_file)\n",
        "  print(count)\n",
        "  count=count+1    \n"
      ],
      "execution_count": 16,
      "outputs": [
        {
          "output_type": "stream",
          "text": [
            "tt5074352\n",
            "0\n",
            "tt6980546\n",
            "1\n",
            "tt7838158\n",
            "2\n",
            "tt7465992\n",
            "3\n",
            "tt2631186\n",
            "4\n",
            "tt7392212\n",
            "5\n"
          ],
          "name": "stdout"
        }
      ]
    }
  ]
}